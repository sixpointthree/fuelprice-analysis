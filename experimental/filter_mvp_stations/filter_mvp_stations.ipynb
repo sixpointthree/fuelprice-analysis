{
 "cells": [
  {
   "cell_type": "code",
   "execution_count": 11,
   "id": "aa21dfb5",
   "metadata": {},
   "outputs": [
    {
     "name": "stdout",
     "output_type": "stream",
     "text": [
      "Requirement already satisfied: gdown in c:\\users\\steffen\\anaconda3\\lib\\site-packages (4.5.3)\n",
      "Requirement already satisfied: tqdm in c:\\users\\steffen\\anaconda3\\lib\\site-packages (from gdown) (4.62.3)\n",
      "Requirement already satisfied: requests[socks] in c:\\users\\steffen\\anaconda3\\lib\\site-packages (from gdown) (2.26.0)\n",
      "Requirement already satisfied: beautifulsoup4 in c:\\users\\steffen\\anaconda3\\lib\\site-packages (from gdown) (4.10.0)\n",
      "Requirement already satisfied: filelock in c:\\users\\steffen\\anaconda3\\lib\\site-packages (from gdown) (3.3.1)\n",
      "Requirement already satisfied: six in c:\\users\\steffen\\anaconda3\\lib\\site-packages (from gdown) (1.16.0)\n",
      "Requirement already satisfied: soupsieve>1.2 in c:\\users\\steffen\\anaconda3\\lib\\site-packages (from beautifulsoup4->gdown) (2.2.1)\n",
      "Requirement already satisfied: charset-normalizer~=2.0.0 in c:\\users\\steffen\\anaconda3\\lib\\site-packages (from requests[socks]->gdown) (2.0.4)\n",
      "Requirement already satisfied: idna<4,>=2.5 in c:\\users\\steffen\\anaconda3\\lib\\site-packages (from requests[socks]->gdown) (3.2)\n",
      "Requirement already satisfied: urllib3<1.27,>=1.21.1 in c:\\users\\steffen\\anaconda3\\lib\\site-packages (from requests[socks]->gdown) (1.26.7)\n",
      "Requirement already satisfied: certifi>=2017.4.17 in c:\\users\\steffen\\anaconda3\\lib\\site-packages (from requests[socks]->gdown) (2021.10.8)\n",
      "Requirement already satisfied: PySocks!=1.5.7,>=1.5.6 in c:\\users\\steffen\\anaconda3\\lib\\site-packages (from requests[socks]->gdown) (1.7.1)\n",
      "Requirement already satisfied: colorama in c:\\users\\steffen\\anaconda3\\lib\\site-packages (from tqdm->gdown) (0.4.4)\n"
     ]
    }
   ],
   "source": [
    "!pip install gdown"
   ]
  },
  {
   "cell_type": "code",
   "execution_count": 20,
   "id": "1943f24b",
   "metadata": {},
   "outputs": [],
   "source": [
    "# Get data from Google Drive\n",
    "from urllib.request import urlopen\n",
    "from io import BytesIO\n",
    "from zipfile import ZipFile\n",
    "import gdown\n",
    "\n",
    "def unzip(filepath: str, extract_to:str ='.'):\n",
    "    zipfile = ZipFile(file=filepath)\n",
    "    zipfile.extractall(path=extract_to)\n",
    "    \n",
    "def download(file_id: str, output_filename: str):\n",
    "    # url = 'https://drive.google.com/uc?id=0B9P1L--7Wd2vNm9zMTJWOGxobkU'\n",
    "    # output_filename = '20150428_collected_images.tgz'\n",
    "    # gdown.download(url, output_filename, quiet=False)\n",
    "    gdown.download(id=file_id, output=output_filename, quiet=False)"
   ]
  },
  {
   "cell_type": "code",
   "execution_count": 21,
   "id": "4c43ec7c",
   "metadata": {},
   "outputs": [],
   "source": [
    "# Create dir if not exists\n",
    "import os\n",
    "if not os.path.exists(\"temp\"):\n",
    "    os.makedirs(\"temp\")"
   ]
  },
  {
   "cell_type": "code",
   "execution_count": 23,
   "id": "14b40a2f",
   "metadata": {},
   "outputs": [],
   "source": [
    "# Download and unzip to path\n",
    "STATIONS = { \"file_id\": \"14Mwk-qiVHRA69bMIsJiNtUxnPMSdXwV6\", \"zip_path\": \"temp/stations.zip\", \"folder_path\": \"temp/stations\" }\n",
    "PRICES = { \"file_id\": \"1ueFtMHGMTA14ufW-YvP1bgGjtCZ_Ulff\", \"zip_path\": \"temp/prices.zip\", \"folder_path\": \"temp/prices\" }\n",
    "\n",
    "download(STATIONS[\"file_id\"], STATIONS[\"zip_path\"])\n",
    "download(PRICES[\"file_id\"], PRICES[\"zip_path\"])\n",
    "\n",
    "unzip(filepath=STATIONS[\"zip_path\"], extract_to=STATIONS[\"folder_path\"])\n",
    "unzip(filepath=PRICES[\"zip_path\"], extract_to=PRICES[\"folder_path\"])"
   ]
  },
  {
   "cell_type": "code",
   "execution_count": 60,
   "id": "c661f7d5",
   "metadata": {},
   "outputs": [],
   "source": [
    "# Station constants from temp/stations/10/*.csv\n",
    "STATION_UUIDS = {\n",
    "    \"omv_donzdorf\": \"16f07bfd-0bde-4126-a393-ea8a7d053283\",\n",
    "    \"aral_goeppingen\": \"77c4cc3c-ae11-43c4-85cc-5c147409b46f\",\n",
    "    \"shell_goeppingen\": \"c13f60cb-7e1c-40a8-b05a-157fd571b3fa\"\n",
    "}\n",
    "\n",
    "OUTPUT_PATH_MVP_STATION_PRICES = \"temp/mvp_station_prices_2019-10\""
   ]
  },
  {
   "cell_type": "code",
   "execution_count": 47,
   "id": "a9848069",
   "metadata": {},
   "outputs": [
    {
     "name": "stdout",
     "output_type": "stream",
     "text": [
      "File: 2019-10-01-prices.csv Shape: (248708, 8)\n",
      "File: 2019-10-02-prices.csv Shape: (252140, 8)\n",
      "File: 2019-10-03-prices.csv Shape: (236454, 8)\n",
      "File: 2019-10-04-prices.csv Shape: (250187, 8)\n",
      "File: 2019-10-05-prices.csv Shape: (244701, 8)\n",
      "File: 2019-10-06-prices.csv Shape: (240794, 8)\n",
      "File: 2019-10-07-prices.csv Shape: (252426, 8)\n",
      "File: 2019-10-08-prices.csv Shape: (250110, 8)\n",
      "File: 2019-10-09-prices.csv Shape: (253426, 8)\n",
      "File: 2019-10-10-prices.csv Shape: (256534, 8)\n",
      "File: 2019-10-11-prices.csv Shape: (249091, 8)\n",
      "File: 2019-10-12-prices.csv Shape: (229439, 8)\n",
      "File: 2019-10-13-prices.csv Shape: (229792, 8)\n",
      "File: 2019-10-14-prices.csv Shape: (255863, 8)\n",
      "File: 2019-10-15-prices.csv Shape: (252777, 8)\n",
      "File: 2019-10-16-prices.csv Shape: (256213, 8)\n",
      "File: 2019-10-17-prices.csv Shape: (250034, 8)\n",
      "File: 2019-10-18-prices.csv Shape: (256065, 8)\n",
      "File: 2019-10-19-prices.csv Shape: (249388, 8)\n",
      "File: 2019-10-20-prices.csv Shape: (224402, 8)\n",
      "File: 2019-10-21-prices.csv Shape: (257627, 8)\n",
      "File: 2019-10-22-prices.csv Shape: (253926, 8)\n",
      "File: 2019-10-23-prices.csv Shape: (258830, 8)\n",
      "File: 2019-10-24-prices.csv Shape: (250022, 8)\n",
      "File: 2019-10-25-prices.csv Shape: (251504, 8)\n",
      "File: 2019-10-26-prices.csv Shape: (243555, 8)\n",
      "File: 2019-10-27-prices.csv Shape: (245019, 8)\n",
      "File: 2019-10-28-prices.csv Shape: (248858, 8)\n",
      "File: 2019-10-29-prices.csv Shape: (247820, 8)\n",
      "File: 2019-10-30-prices.csv Shape: (215740, 8)\n",
      "File: 2019-10-31-prices.csv Shape: (253612, 8)\n"
     ]
    }
   ],
   "source": [
    "# Read Prices CSV files\n",
    "import pandas as pd\n",
    "\n",
    "prices_df = []\n",
    "dir_to_csv_files = PRICES[\"folder_path\"] + \"/\" + os.listdir(PRICES[\"folder_path\"])[0]\n",
    "for idx, filename in enumerate(os.listdir(dir_to_csv_files)):\n",
    "    prices_df.append(pd.read_csv(dir_to_csv_files + \"/\" + filename))\n",
    "    print(f\"File: {filename} Shape: {prices_df[idx].shape}\")\n",
    "    "
   ]
  },
  {
   "cell_type": "code",
   "execution_count": 48,
   "id": "de333ce1",
   "metadata": {},
   "outputs": [
    {
     "name": "stdout",
     "output_type": "stream",
     "text": [
      "<bound method NDFrame.head of                           date                          station_uuid  diesel  \\\n",
      "0       2019-10-01 00:00:04+02  13f091dc-3019-4c30-ad84-7e7065b81f0c   1.269   \n",
      "1       2019-10-01 00:01:05+02  33d43a63-5589-4ee6-88b5-7d5093751fe5   1.209   \n",
      "2       2019-10-01 00:01:05+02  accbbcb0-bd05-42c8-b0e3-14bce7b0906d   1.239   \n",
      "3       2019-10-01 00:01:05+02  10dbb42c-f2bb-5985-9dad-fbce82794a46   1.199   \n",
      "4       2019-10-01 00:01:05+02  e83a5931-55d2-5db2-b6d5-8e595d7f99c0   1.219   \n",
      "...                        ...                                   ...     ...   \n",
      "248703  2019-10-01 23:57:04+02  8eb62564-c1c9-4f09-9caa-342893d2d12f   1.229   \n",
      "248704  2019-10-01 23:57:04+02  24b93ce4-c8a6-4deb-836d-c061cb5b8654   1.339   \n",
      "248705  2019-10-01 23:58:03+02  e1a15081-2546-9107-e040-0b0a3dfe563c   1.199   \n",
      "248706  2019-10-01 23:59:04+02  30d8de2f-7728-4328-929f-b45ff1659901   1.209   \n",
      "248707  2019-10-01 23:59:04+02  a1e15688-663a-42da-86b3-0501597bcab7   1.228   \n",
      "\n",
      "           e5    e10  dieselchange  e5change  e10change  \n",
      "0       1.409  1.389             1         1          1  \n",
      "1       1.349  1.329             1         1          1  \n",
      "2       1.409  1.389             0         1          1  \n",
      "3       1.339  1.319             1         1          1  \n",
      "4       0.000  0.000             1         0          0  \n",
      "...       ...    ...           ...       ...        ...  \n",
      "248703  1.369  0.000             1         1          0  \n",
      "248704  1.449  1.429             1         1          1  \n",
      "248705  1.349  1.329             1         1          1  \n",
      "248706  1.379  1.359             1         1          1  \n",
      "248707  1.388  1.368             0         1          1  \n",
      "\n",
      "[248708 rows x 8 columns]>\n"
     ]
    }
   ],
   "source": [
    "print(prices_df[0].head)"
   ]
  },
  {
   "cell_type": "code",
   "execution_count": 54,
   "id": "2c18ae61",
   "metadata": {},
   "outputs": [
    {
     "name": "stdout",
     "output_type": "stream",
     "text": [
      "New shape: (61, 8)\n",
      "New shape: (63, 8)\n",
      "New shape: (50, 8)\n",
      "New shape: (58, 8)\n",
      "New shape: (61, 8)\n",
      "New shape: (58, 8)\n",
      "New shape: (56, 8)\n",
      "New shape: (60, 8)\n",
      "New shape: (58, 8)\n",
      "New shape: (62, 8)\n",
      "New shape: (63, 8)\n",
      "New shape: (49, 8)\n",
      "New shape: (59, 8)\n",
      "New shape: (66, 8)\n",
      "New shape: (61, 8)\n",
      "New shape: (64, 8)\n",
      "New shape: (56, 8)\n",
      "New shape: (54, 8)\n",
      "New shape: (64, 8)\n",
      "New shape: (48, 8)\n",
      "New shape: (60, 8)\n",
      "New shape: (63, 8)\n",
      "New shape: (55, 8)\n",
      "New shape: (51, 8)\n",
      "New shape: (46, 8)\n",
      "New shape: (51, 8)\n",
      "New shape: (53, 8)\n",
      "New shape: (44, 8)\n",
      "New shape: (43, 8)\n",
      "New shape: (47, 8)\n",
      "New shape: (52, 8)\n"
     ]
    }
   ],
   "source": [
    "# Filter for STATION_UUIDS of MVP stations\n",
    "for idx, df in enumerate(prices_df):\n",
    "    prices_df[idx] = df[df[\"station_uuid\"].isin([STATION_UUIDS[\"omv_donzdorf\"], STATION_UUIDS[\"aral_goeppingen\"], STATION_UUIDS[\"shell_goeppingen\"]])]\n",
    "    print(f\"New shape: {prices_df[idx].shape}\")"
   ]
  },
  {
   "cell_type": "code",
   "execution_count": 62,
   "id": "cd356c87",
   "metadata": {},
   "outputs": [
    {
     "name": "stdout",
     "output_type": "stream",
     "text": [
      "<bound method NDFrame.head of                           date                          station_uuid  diesel  \\\n",
      "2347    2019-10-01 05:00:06+02  c13f60cb-7e1c-40a8-b05a-157fd571b3fa   1.379   \n",
      "4762    2019-10-01 05:06:04+02  77c4cc3c-ae11-43c4-85cc-5c147409b46f   1.379   \n",
      "6953    2019-10-01 05:17:04+02  16f07bfd-0bde-4126-a393-ea8a7d053283   1.349   \n",
      "7684    2019-10-01 05:24:04+02  c13f60cb-7e1c-40a8-b05a-157fd571b3fa   1.379   \n",
      "21264   2019-10-01 07:17:04+02  c13f60cb-7e1c-40a8-b05a-157fd571b3fa   1.349   \n",
      "...                        ...                                   ...     ...   \n",
      "237203  2019-10-31 20:21:09+01  16f07bfd-0bde-4126-a393-ea8a7d053283   1.219   \n",
      "238951  2019-10-31 20:35:04+01  c13f60cb-7e1c-40a8-b05a-157fd571b3fa   1.239   \n",
      "242979  2019-10-31 22:00:04+01  c13f60cb-7e1c-40a8-b05a-157fd571b3fa   1.299   \n",
      "243723  2019-10-31 22:00:04+01  77c4cc3c-ae11-43c4-85cc-5c147409b46f   1.289   \n",
      "246752  2019-10-31 22:05:04+01  16f07bfd-0bde-4126-a393-ea8a7d053283   1.279   \n",
      "\n",
      "           e5    e10  dieselchange  e5change  e10change  \n",
      "2347    1.549  1.529             1         1          1  \n",
      "4762    1.539  1.519             1         1          1  \n",
      "6953    1.519  1.499             1         1          1  \n",
      "7684    1.549  1.509             0         0          1  \n",
      "21264   1.479  1.439             1         1          1  \n",
      "...       ...    ...           ...       ...        ...  \n",
      "237203  1.349  1.329             1         1          1  \n",
      "238951  1.369  1.329             1         1          0  \n",
      "242979  1.429  1.389             1         1          1  \n",
      "243723  1.419  1.399             1         1          1  \n",
      "246752  1.409  1.389             1         1          1  \n",
      "\n",
      "[1736 rows x 8 columns]>\n"
     ]
    }
   ],
   "source": [
    "# Concat dataframes\n",
    "prices_mvp = pd.concat([df for df in prices_df])\n",
    "print(prices_mvp.head)"
   ]
  },
  {
   "cell_type": "code",
   "execution_count": 64,
   "id": "3607b6f8",
   "metadata": {},
   "outputs": [],
   "source": [
    "# Dump to *.csv\n",
    "# Contains all 3 stations\n",
    "prices_mvp.to_csv(OUTPUT_PATH_MVP_STATION_PRICES + \".csv\")\n",
    "\n",
    "# Contains only 1 station\n",
    "for station, uuid in STATION_UUIDS.items():\n",
    "    prices_mvp[prices_mvp[\"station_uuid\"] == uuid].to_csv(OUTPUT_PATH_MVP_STATION_PRICES + f\"_{station}\" + \".csv\")"
   ]
  },
  {
   "cell_type": "code",
   "execution_count": null,
   "id": "08668c05",
   "metadata": {},
   "outputs": [],
   "source": []
  }
 ],
 "metadata": {
  "kernelspec": {
   "display_name": "Python 3 (ipykernel)",
   "language": "python",
   "name": "python3"
  },
  "language_info": {
   "codemirror_mode": {
    "name": "ipython",
    "version": 3
   },
   "file_extension": ".py",
   "mimetype": "text/x-python",
   "name": "python",
   "nbconvert_exporter": "python",
   "pygments_lexer": "ipython3",
   "version": "3.9.7"
  }
 },
 "nbformat": 4,
 "nbformat_minor": 5
}
