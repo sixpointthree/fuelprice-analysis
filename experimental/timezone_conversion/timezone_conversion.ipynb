{
 "cells": [
  {
   "cell_type": "code",
   "execution_count": 73,
   "id": "ac9c9d38",
   "metadata": {},
   "outputs": [],
   "source": [
    "import pandas as pd"
   ]
  },
  {
   "cell_type": "code",
   "execution_count": 74,
   "id": "9833023f",
   "metadata": {},
   "outputs": [
    {
     "name": "stdout",
     "output_type": "stream",
     "text": [
      "   Unnamed: 0                    date                          station_uuid  \\\n",
      "0        6953  2019-10-01 05:17:04+02  16f07bfd-0bde-4126-a393-ea8a7d053283   \n",
      "1       34120  2019-10-01 08:09:04+02  16f07bfd-0bde-4126-a393-ea8a7d053283   \n",
      "2       40389  2019-10-01 08:29:04+02  16f07bfd-0bde-4126-a393-ea8a7d053283   \n",
      "3       74150  2019-10-01 10:25:05+02  16f07bfd-0bde-4126-a393-ea8a7d053283   \n",
      "4       84881  2019-10-01 11:05:05+02  16f07bfd-0bde-4126-a393-ea8a7d053283   \n",
      "\n",
      "   diesel     e5    e10  dieselchange  e5change  e10change  \n",
      "0   1.349  1.519  1.499             1         1          1  \n",
      "1   1.349  1.469  1.449             0         1          1  \n",
      "2   1.309  1.449  1.429             1         1          1  \n",
      "3   1.359  1.499  1.479             1         1          1  \n",
      "4   1.319  1.449  1.429             1         1          1  \n",
      "Unnamed: 0        int64\n",
      "date             object\n",
      "station_uuid     object\n",
      "diesel          float64\n",
      "e5              float64\n",
      "e10             float64\n",
      "dieselchange      int64\n",
      "e5change          int64\n",
      "e10change         int64\n",
      "dtype: object\n"
     ]
    }
   ],
   "source": [
    "df = pd.read_csv(\"prices_with_timezone.csv\")\n",
    "print(df.head())\n",
    "print(df.dtypes)"
   ]
  },
  {
   "cell_type": "code",
   "execution_count": 75,
   "id": "99a74784",
   "metadata": {},
   "outputs": [
    {
     "name": "stdout",
     "output_type": "stream",
     "text": [
      "   Unnamed: 0                      date                          station_uuid  \\\n",
      "0        6953 2019-10-01 03:17:04+00:00  16f07bfd-0bde-4126-a393-ea8a7d053283   \n",
      "1       34120 2019-10-01 06:09:04+00:00  16f07bfd-0bde-4126-a393-ea8a7d053283   \n",
      "2       40389 2019-10-01 06:29:04+00:00  16f07bfd-0bde-4126-a393-ea8a7d053283   \n",
      "3       74150 2019-10-01 08:25:05+00:00  16f07bfd-0bde-4126-a393-ea8a7d053283   \n",
      "4       84881 2019-10-01 09:05:05+00:00  16f07bfd-0bde-4126-a393-ea8a7d053283   \n",
      "\n",
      "   diesel     e5    e10  dieselchange  e5change  e10change  \n",
      "0   1.349  1.519  1.499             1         1          1  \n",
      "1   1.349  1.469  1.449             0         1          1  \n",
      "2   1.309  1.449  1.429             1         1          1  \n",
      "3   1.359  1.499  1.479             1         1          1  \n",
      "4   1.319  1.449  1.429             1         1          1  \n",
      "Unnamed: 0                    int64\n",
      "date            datetime64[ns, UTC]\n",
      "station_uuid                 object\n",
      "diesel                      float64\n",
      "e5                          float64\n",
      "e10                         float64\n",
      "dieselchange                  int64\n",
      "e5change                      int64\n",
      "e10change                     int64\n",
      "dtype: object\n"
     ]
    }
   ],
   "source": [
    "# Timezone conversion from +02:00 to UTC (+00:00)\n",
    "df[\"date\"] = pd.to_datetime(df[\"date\"], infer_datetime_format=True, utc=True)\n",
    "#test = pd.to_datetime(df[\"date\"], format='%Y-%m-%d %H:%M:%S%z')\n",
    "#test = df[\"date\"].apply(lambda x: (dt.datetime.strptime(x + \"00\",'%Y-%m-%d %H:%M:%S%z')))\n",
    "print(df.head())\n",
    "print(df.dtypes)"
   ]
  },
  {
   "cell_type": "code",
   "execution_count": 78,
   "id": "9552d4b4",
   "metadata": {},
   "outputs": [
    {
     "name": "stdout",
     "output_type": "stream",
     "text": [
      "0   18170 days 03:17:04\n",
      "1   18170 days 06:09:04\n",
      "2   18170 days 06:29:04\n",
      "3   18170 days 08:25:05\n",
      "4   18170 days 09:05:05\n",
      "Name: date, dtype: timedelta64[ns]\n",
      "0    1.569900e+09\n",
      "1    1.569910e+09\n",
      "2    1.569911e+09\n",
      "3    1.569918e+09\n",
      "4    1.569921e+09\n",
      "Name: date, dtype: float64\n",
      "0    1569899824\n",
      "1    1569910144\n",
      "2    1569911344\n",
      "3    1569918305\n",
      "4    1569920705\n",
      "Name: date, dtype: int64\n"
     ]
    }
   ],
   "source": [
    "import datetime\n",
    "from dateutil import tz\n",
    "import numpy as np\n",
    "timedelta = df[\"date\"] - datetime.datetime(1970, 1, 1, tzinfo=tz.gettz('UTC'))\n",
    "print(timedelta.head())\n",
    "timedelta = timedelta / np.timedelta64(1, 's')\n",
    "print(timedelta.head())\n",
    "timedelta = timedelta.astype('int64')\n",
    "print(timedelta.head())"
   ]
  },
  {
   "cell_type": "code",
   "execution_count": null,
   "id": "769437e9",
   "metadata": {},
   "outputs": [],
   "source": []
  }
 ],
 "metadata": {
  "kernelspec": {
   "display_name": "Python 3 (ipykernel)",
   "language": "python",
   "name": "python3"
  },
  "language_info": {
   "codemirror_mode": {
    "name": "ipython",
    "version": 3
   },
   "file_extension": ".py",
   "mimetype": "text/x-python",
   "name": "python",
   "nbconvert_exporter": "python",
   "pygments_lexer": "ipython3",
   "version": "3.9.7"
  }
 },
 "nbformat": 4,
 "nbformat_minor": 5
}
