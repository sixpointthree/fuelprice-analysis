{
 "cells": [
  {
   "cell_type": "code",
   "execution_count": 1,
   "id": "ac9c9d38",
   "metadata": {},
   "outputs": [],
   "source": [
    "import pandas as pd"
   ]
  },
  {
   "cell_type": "code",
   "execution_count": 2,
   "id": "9833023f",
   "metadata": {},
   "outputs": [
    {
     "name": "stdout",
     "output_type": "stream",
     "text": [
      "   Unnamed: 0                    date                          station_uuid  \\\n",
      "0        6953  2019-10-01 05:17:04+02  16f07bfd-0bde-4126-a393-ea8a7d053283   \n",
      "1       34120  2019-10-01 08:09:04+02  16f07bfd-0bde-4126-a393-ea8a7d053283   \n",
      "2       40389  2019-10-01 08:29:04+02  16f07bfd-0bde-4126-a393-ea8a7d053283   \n",
      "3       74150  2019-10-01 10:25:05+02  16f07bfd-0bde-4126-a393-ea8a7d053283   \n",
      "4       84881  2019-10-01 11:05:05+02  16f07bfd-0bde-4126-a393-ea8a7d053283   \n",
      "\n",
      "   diesel     e5    e10  dieselchange  e5change  e10change  \n",
      "0   1.349  1.519  1.499             1         1          1  \n",
      "1   1.349  1.469  1.449             0         1          1  \n",
      "2   1.309  1.449  1.429             1         1          1  \n",
      "3   1.359  1.499  1.479             1         1          1  \n",
      "4   1.319  1.449  1.429             1         1          1  \n",
      "Unnamed: 0        int64\n",
      "date             object\n",
      "station_uuid     object\n",
      "diesel          float64\n",
      "e5              float64\n",
      "e10             float64\n",
      "dieselchange      int64\n",
      "e5change          int64\n",
      "e10change         int64\n",
      "dtype: object\n"
     ]
    }
   ],
   "source": [
    "df = pd.read_csv(\"prices_with_timezone.csv\")\n",
    "print(df.head())\n",
    "print(df.dtypes)"
   ]
  },
  {
   "cell_type": "code",
   "execution_count": 3,
   "id": "99a74784",
   "metadata": {},
   "outputs": [
    {
     "name": "stdout",
     "output_type": "stream",
     "text": [
      "   Unnamed: 0                      date                          station_uuid  \\\n",
      "0        6953 2019-10-01 03:17:04+00:00  16f07bfd-0bde-4126-a393-ea8a7d053283   \n",
      "1       34120 2019-10-01 06:09:04+00:00  16f07bfd-0bde-4126-a393-ea8a7d053283   \n",
      "2       40389 2019-10-01 06:29:04+00:00  16f07bfd-0bde-4126-a393-ea8a7d053283   \n",
      "3       74150 2019-10-01 08:25:05+00:00  16f07bfd-0bde-4126-a393-ea8a7d053283   \n",
      "4       84881 2019-10-01 09:05:05+00:00  16f07bfd-0bde-4126-a393-ea8a7d053283   \n",
      "\n",
      "   diesel     e5    e10  dieselchange  e5change  e10change  \n",
      "0   1.349  1.519  1.499             1         1          1  \n",
      "1   1.349  1.469  1.449             0         1          1  \n",
      "2   1.309  1.449  1.429             1         1          1  \n",
      "3   1.359  1.499  1.479             1         1          1  \n",
      "4   1.319  1.449  1.429             1         1          1  \n",
      "Unnamed: 0                    int64\n",
      "date            datetime64[ns, UTC]\n",
      "station_uuid                 object\n",
      "diesel                      float64\n",
      "e5                          float64\n",
      "e10                         float64\n",
      "dieselchange                  int64\n",
      "e5change                      int64\n",
      "e10change                     int64\n",
      "dtype: object\n"
     ]
    }
   ],
   "source": [
    "# Timezone conversion from +02:00 to UTC (+00:00)\n",
    "df[\"date\"] = pd.to_datetime(df[\"date\"], infer_datetime_format=True, utc=True)\n",
    "#test = pd.to_datetime(df[\"date\"], format='%Y-%m-%d %H:%M:%S%z')\n",
    "#test = df[\"date\"].apply(lambda x: (dt.datetime.strptime(x + \"00\",'%Y-%m-%d %H:%M:%S%z')))\n",
    "print(df.head())\n",
    "print(df.dtypes)"
   ]
  },
  {
   "cell_type": "code",
   "execution_count": 4,
   "id": "9552d4b4",
   "metadata": {},
   "outputs": [
    {
     "name": "stdout",
     "output_type": "stream",
     "text": [
      "0   18170 days 03:17:04\n",
      "1   18170 days 06:09:04\n",
      "2   18170 days 06:29:04\n",
      "3   18170 days 08:25:05\n",
      "4   18170 days 09:05:05\n",
      "Name: date, dtype: timedelta64[ns]\n",
      "0    1.569900e+09\n",
      "1    1.569910e+09\n",
      "2    1.569911e+09\n",
      "3    1.569918e+09\n",
      "4    1.569921e+09\n",
      "Name: date, dtype: float64\n",
      "0    1569899824\n",
      "1    1569910144\n",
      "2    1569911344\n",
      "3    1569918305\n",
      "4    1569920705\n",
      "Name: date, dtype: int64\n"
     ]
    }
   ],
   "source": [
    "import datetime\n",
    "from dateutil import tz\n",
    "import numpy as np\n",
    "timedelta = df[\"date\"] - datetime.datetime(1970, 1, 1, tzinfo=tz.gettz('UTC'))\n",
    "print(timedelta.head())\n",
    "timedelta = timedelta / np.timedelta64(1, 's')\n",
    "print(timedelta.head())\n",
    "timedelta = timedelta.astype('int64')\n",
    "print(timedelta.head())"
   ]
  },
  {
   "cell_type": "code",
   "execution_count": 47,
   "id": "769437e9",
   "metadata": {},
   "outputs": [],
   "source": [
    "df_in = pd.read_csv(\"prices_with_timezone.csv\")"
   ]
  },
  {
   "cell_type": "code",
   "execution_count": 48,
   "id": "c09a00d7",
   "metadata": {},
   "outputs": [],
   "source": [
    "# convert dataframe column date to seconds since epoch\n",
    "def convert_df_to_epoch_seconds_utc(df: pd.DataFrame, column: str):\n",
    "    df[column] = pd.to_datetime(df[column], infer_datetime_format=True, utc=True)\n",
    "    timedelta = df[column] - datetime.datetime(1970, 1, 1, tzinfo=tz.gettz('UTC'))\n",
    "    timedelta = timedelta / np.timedelta64(1, 's')\n",
    "    timedelta = timedelta.astype('int64')\n",
    "    df[column] = timedelta\n",
    "    return df"
   ]
  },
  {
   "cell_type": "code",
   "execution_count": 49,
   "id": "9684724c",
   "metadata": {},
   "outputs": [
    {
     "name": "stdout",
     "output_type": "stream",
     "text": [
      "   Unnamed: 0        date                          station_uuid  diesel  \\\n",
      "0        6953  1569899824  16f07bfd-0bde-4126-a393-ea8a7d053283   1.349   \n",
      "1       34120  1569910144  16f07bfd-0bde-4126-a393-ea8a7d053283   1.349   \n",
      "2       40389  1569911344  16f07bfd-0bde-4126-a393-ea8a7d053283   1.309   \n",
      "3       74150  1569918305  16f07bfd-0bde-4126-a393-ea8a7d053283   1.359   \n",
      "4       84881  1569920705  16f07bfd-0bde-4126-a393-ea8a7d053283   1.319   \n",
      "\n",
      "      e5    e10  dieselchange  e5change  e10change  \n",
      "0  1.519  1.499             1         1          1  \n",
      "1  1.469  1.449             0         1          1  \n",
      "2  1.449  1.429             1         1          1  \n",
      "3  1.499  1.479             1         1          1  \n",
      "4  1.449  1.429             1         1          1  \n"
     ]
    }
   ],
   "source": [
    "df_utc_epoch = convert_df_to_epoch_seconds_utc(df_in, \"date\").head()\n",
    "print(df_utc_epoch.head())"
   ]
  },
  {
   "cell_type": "code",
   "execution_count": 50,
   "id": "513f274f",
   "metadata": {},
   "outputs": [],
   "source": [
    "def convert_df_from_epoch_to_iso8601_tz(df: pd.DataFrame, column: str, timezone: tz.tzfile = tz.gettz('UTC')):\n",
    "    df[column] = pd.to_datetime(df[column], unit='s', utc=True)\n",
    "    df[column] = df[column].dt.tz_convert(timezone)\n",
    "    return df"
   ]
  },
  {
   "cell_type": "code",
   "execution_count": 51,
   "id": "88192064",
   "metadata": {},
   "outputs": [
    {
     "name": "stdout",
     "output_type": "stream",
     "text": [
      "   Unnamed: 0                      date                          station_uuid  \\\n",
      "0        6953 2019-10-01 05:17:04+02:00  16f07bfd-0bde-4126-a393-ea8a7d053283   \n",
      "1       34120 2019-10-01 08:09:04+02:00  16f07bfd-0bde-4126-a393-ea8a7d053283   \n",
      "2       40389 2019-10-01 08:29:04+02:00  16f07bfd-0bde-4126-a393-ea8a7d053283   \n",
      "3       74150 2019-10-01 10:25:05+02:00  16f07bfd-0bde-4126-a393-ea8a7d053283   \n",
      "4       84881 2019-10-01 11:05:05+02:00  16f07bfd-0bde-4126-a393-ea8a7d053283   \n",
      "\n",
      "   diesel     e5    e10  dieselchange  e5change  e10change  \n",
      "0   1.349  1.519  1.499             1         1          1  \n",
      "1   1.349  1.469  1.449             0         1          1  \n",
      "2   1.309  1.449  1.429             1         1          1  \n",
      "3   1.359  1.499  1.479             1         1          1  \n",
      "4   1.319  1.449  1.429             1         1          1  \n",
      "   Unnamed: 0                      date                          station_uuid  \\\n",
      "0        6953 2019-10-01 17:17:04+14:00  16f07bfd-0bde-4126-a393-ea8a7d053283   \n",
      "1       34120 2019-10-01 20:09:04+14:00  16f07bfd-0bde-4126-a393-ea8a7d053283   \n",
      "2       40389 2019-10-01 20:29:04+14:00  16f07bfd-0bde-4126-a393-ea8a7d053283   \n",
      "3       74150 2019-10-01 22:25:05+14:00  16f07bfd-0bde-4126-a393-ea8a7d053283   \n",
      "4       84881 2019-10-01 23:05:05+14:00  16f07bfd-0bde-4126-a393-ea8a7d053283   \n",
      "\n",
      "   diesel     e5    e10  dieselchange  e5change  e10change  \n",
      "0   1.349  1.519  1.499             1         1          1  \n",
      "1   1.349  1.469  1.449             0         1          1  \n",
      "2   1.309  1.449  1.429             1         1          1  \n",
      "3   1.359  1.499  1.479             1         1          1  \n",
      "4   1.319  1.449  1.429             1         1          1  \n"
     ]
    },
    {
     "name": "stderr",
     "output_type": "stream",
     "text": [
      "C:\\Users\\steffen.lang\\AppData\\Local\\Temp\\ipykernel_24156\\4089532118.py:2: SettingWithCopyWarning: \n",
      "A value is trying to be set on a copy of a slice from a DataFrame.\n",
      "Try using .loc[row_indexer,col_indexer] = value instead\n",
      "\n",
      "See the caveats in the documentation: https://pandas.pydata.org/pandas-docs/stable/user_guide/indexing.html#returning-a-view-versus-a-copy\n",
      "  df[column] = pd.to_datetime(df[column], unit='s', utc=True)\n",
      "C:\\Users\\steffen.lang\\AppData\\Local\\Temp\\ipykernel_24156\\4089532118.py:3: SettingWithCopyWarning: \n",
      "A value is trying to be set on a copy of a slice from a DataFrame.\n",
      "Try using .loc[row_indexer,col_indexer] = value instead\n",
      "\n",
      "See the caveats in the documentation: https://pandas.pydata.org/pandas-docs/stable/user_guide/indexing.html#returning-a-view-versus-a-copy\n",
      "  df[column] = df[column].dt.tz_convert(timezone)\n",
      "C:\\Users\\steffen.lang\\AppData\\Local\\Temp\\ipykernel_24156\\4089532118.py:2: SettingWithCopyWarning: \n",
      "A value is trying to be set on a copy of a slice from a DataFrame.\n",
      "Try using .loc[row_indexer,col_indexer] = value instead\n",
      "\n",
      "See the caveats in the documentation: https://pandas.pydata.org/pandas-docs/stable/user_guide/indexing.html#returning-a-view-versus-a-copy\n",
      "  df[column] = pd.to_datetime(df[column], unit='s', utc=True)\n",
      "C:\\Users\\steffen.lang\\AppData\\Local\\Temp\\ipykernel_24156\\4089532118.py:3: SettingWithCopyWarning: \n",
      "A value is trying to be set on a copy of a slice from a DataFrame.\n",
      "Try using .loc[row_indexer,col_indexer] = value instead\n",
      "\n",
      "See the caveats in the documentation: https://pandas.pydata.org/pandas-docs/stable/user_guide/indexing.html#returning-a-view-versus-a-copy\n",
      "  df[column] = df[column].dt.tz_convert(timezone)\n"
     ]
    }
   ],
   "source": [
    "print(convert_df_from_epoch_to_iso8601_tz(df_utc_epoch, \"date\", tz.gettz(\"Europe/Berlin\")).head())\n",
    "print(convert_df_from_epoch_to_iso8601_tz(df_utc_epoch, \"date\", tz.gettz(\"Pacific/Kiritimati\")).head())"
   ]
  },
  {
   "cell_type": "code",
   "execution_count": null,
   "id": "99ec9b1f",
   "metadata": {},
   "outputs": [],
   "source": []
  }
 ],
 "metadata": {
  "kernelspec": {
   "display_name": "Python 3.9.12 ('base')",
   "language": "python",
   "name": "python3"
  },
  "language_info": {
   "codemirror_mode": {
    "name": "ipython",
    "version": 3
   },
   "file_extension": ".py",
   "mimetype": "text/x-python",
   "name": "python",
   "nbconvert_exporter": "python",
   "pygments_lexer": "ipython3",
   "version": "3.9.12"
  },
  "vscode": {
   "interpreter": {
    "hash": "9dc442b93ae2ac0ed49760b7863a356c74d8ab3af3a5d141e75e8e4212badd17"
   }
  }
 },
 "nbformat": 4,
 "nbformat_minor": 5
}
