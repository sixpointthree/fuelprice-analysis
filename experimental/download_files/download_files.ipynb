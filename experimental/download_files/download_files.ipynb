{
 "cells": [
  {
   "cell_type": "code",
   "execution_count": 4,
   "metadata": {},
   "outputs": [],
   "source": [
    "LINK_DOWNLOAD_DAY = f\"https://dev.azure.com/tankerkoenig/362e70d1-bafa-4cf7-a346-1f3613304973/_apis/git/repositories/0d6e7286-91e4-402c-af56-fa75be1f223d/items?path=/prices/2022/11/2022-11-01-prices.csv&versionDescriptor%5BversionOptions%5D=0&versionDescriptor%5BversionType%5D=0&versionDescriptor%5Bversion%5D=master&resolveLfs=true&%24format=octetStream&api-version=5.0&download=true\""
   ]
  },
  {
   "cell_type": "code",
   "execution_count": 15,
   "metadata": {},
   "outputs": [
    {
     "name": "stdout",
     "output_type": "stream",
     "text": [
      "prices/2020/11/2020-11-01-prices.csv\n",
      "prices/2013/03/2013-03-01-prices.csv\n"
     ]
    }
   ],
   "source": [
    "def resource_path(year, month, day):\n",
    "    return f\"prices/{year}/{str(month).zfill(2)}/{year}-{str(month).zfill(2)}-{str(day).zfill(2)}-prices.csv\"\n",
    "\n",
    "print(resource_path(2020, 11, 1))\n",
    "print(resource_path(2013, 3, 1))"
   ]
  },
  {
   "cell_type": "code",
   "execution_count": 16,
   "metadata": {},
   "outputs": [
    {
     "name": "stdout",
     "output_type": "stream",
     "text": [
      "https://dev.azure.com/tankerkoenig/362e70d1-bafa-4cf7-a346-1f3613304973/_apis/git/repositories/0d6e7286-91e4-402c-af56-fa75be1f223d/items?path=/prices/2020/11/2020-11-01-prices.csv&versionDescriptor%5BversionOptions%5D=0&versionDescriptor%5BversionType%5D=0&versionDescriptor%5Bversion%5D=master&resolveLfs=true&%24format=octetStream&api-version=5.0&download=true\n",
      "https://dev.azure.com/tankerkoenig/362e70d1-bafa-4cf7-a346-1f3613304973/_apis/git/repositories/0d6e7286-91e4-402c-af56-fa75be1f223d/items?path=/prices/2013/03/2013-03-01-prices.csv&versionDescriptor%5BversionOptions%5D=0&versionDescriptor%5BversionType%5D=0&versionDescriptor%5Bversion%5D=master&resolveLfs=true&%24format=octetStream&api-version=5.0&download=true\n"
     ]
    }
   ],
   "source": [
    "def download_link(year, month, day):\n",
    "    return f\"https://dev.azure.com/tankerkoenig/362e70d1-bafa-4cf7-a346-1f3613304973/_apis/git/repositories/0d6e7286-91e4-402c-af56-fa75be1f223d/items?path=/{resource_path(year, month, day)}&versionDescriptor%5BversionOptions%5D=0&versionDescriptor%5BversionType%5D=0&versionDescriptor%5Bversion%5D=master&resolveLfs=true&%24format=octetStream&api-version=5.0&download=true\"\n",
    "\n",
    "print(download_link(2020, 11, 1))\n",
    "print(download_link(2013, 3, 1))"
   ]
  },
  {
   "cell_type": "code",
   "execution_count": 19,
   "metadata": {},
   "outputs": [
    {
     "name": "stdout",
     "output_type": "stream",
     "text": [
      "Downloading https://dev.azure.com/tankerkoenig/362e70d1-bafa-4cf7-a346-1f3613304973/_apis/git/repositories/0d6e7286-91e4-402c-af56-fa75be1f223d/items?path=/prices/2020/11/2020-11-01-prices.csv&versionDescriptor%5BversionOptions%5D=0&versionDescriptor%5BversionType%5D=0&versionDescriptor%5Bversion%5D=master&resolveLfs=true&%24format=octetStream&api-version=5.0&download=true to test.csv\n",
      "Downloading https://dev.azure.com/tankerkoenig/362e70d1-bafa-4cf7-a346-1f3613304973/_apis/git/repositories/0d6e7286-91e4-402c-af56-fa75be1f223d/items?path=/prices/1970/10/1970-10-08-prices.csv&versionDescriptor%5BversionOptions%5D=0&versionDescriptor%5BversionType%5D=0&versionDescriptor%5Bversion%5D=master&resolveLfs=true&%24format=octetStream&api-version=5.0&download=true to fail.csv\n",
      "Error: HTTP Error 404: Not Found\n"
     ]
    }
   ],
   "source": [
    "import urllib\n",
    "\n",
    "# download file with target path\n",
    "def download_file(year, month, day, target_path):\n",
    "    link = download_link(year, month, day)\n",
    "    print(f\"Downloading {link} to {target_path}\")\n",
    "    try:\n",
    "        urllib.request.urlretrieve(link, target_path)\n",
    "    except urllib.error.HTTPError as e:\n",
    "        print(f\"Error: {e}\")\n",
    "\n",
    "download_file(2020, 11, 1, \"test.csv\")\n",
    "download_file(1970, 10, 8, \"fail.csv\")"
   ]
  },
  {
   "cell_type": "code",
   "execution_count": null,
   "metadata": {},
   "outputs": [],
   "source": []
  }
 ],
 "metadata": {
  "kernelspec": {
   "display_name": "Python 3.9.12 ('base')",
   "language": "python",
   "name": "python3"
  },
  "language_info": {
   "codemirror_mode": {
    "name": "ipython",
    "version": 3
   },
   "file_extension": ".py",
   "mimetype": "text/x-python",
   "name": "python",
   "nbconvert_exporter": "python",
   "pygments_lexer": "ipython3",
   "version": "3.9.12"
  },
  "orig_nbformat": 4,
  "vscode": {
   "interpreter": {
    "hash": "9dc442b93ae2ac0ed49760b7863a356c74d8ab3af3a5d141e75e8e4212badd17"
   }
  }
 },
 "nbformat": 4,
 "nbformat_minor": 2
}
